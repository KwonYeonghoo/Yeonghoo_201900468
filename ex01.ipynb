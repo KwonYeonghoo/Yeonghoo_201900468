{
 "cells": [
  {
   "cell_type": "code",
   "execution_count": 2,
   "id": "d44a5783-5b00-4174-9773-b07cc992fc07",
   "metadata": {},
   "outputs": [
    {
     "data": {
      "text/plain": [
       "2"
      ]
     },
     "execution_count": 2,
     "metadata": {},
     "output_type": "execute_result"
    }
   ],
   "source": [
    "a=2\n",
    "a"
   ]
  },
  {
   "cell_type": "code",
   "execution_count": 3,
   "id": "a0ae0cff-1787-4a30-a133-1042d4ffea78",
   "metadata": {
    "tags": []
   },
   "outputs": [
    {
     "data": {
      "text/plain": [
       "True"
      ]
     },
     "execution_count": 3,
     "metadata": {},
     "output_type": "execute_result"
    }
   ],
   "source": [
    "a==2\n"
   ]
  },
  {
   "cell_type": "markdown",
   "id": "3129df45-8303-4b78-a974-d411a188413d",
   "metadata": {
    "jupyter": {
     "outputs_hidden": true
    },
    "tags": []
   },
   "source": [
    "### Type, Value, Assign\n",
    "\n",
    "- 변수(variable): 특정 값을 저장하는 공간\n",
    "    a\n",
    "- 값(value)\n",
    "    2\n",
    "- 할당하다(assign): 변수에 값을 넣는 과정\n",
    "    \"2를 a에 넣는다.\"\n",
    "\n",
    "    *** a는 2다: a==2\n",
    "- 자료형(type): 데이터의 형태\n",
    "    a 데이터의 형태 integer(int타입이다)\n",
    "    "
   ]
  },
  {
   "cell_type": "code",
   "execution_count": 5,
   "id": "445ff2db-039f-45a9-ae85-d51acbc70f6c",
   "metadata": {},
   "outputs": [
    {
     "name": "stdout",
     "output_type": "stream",
     "text": [
      "2\n"
     ]
    }
   ],
   "source": [
    "print(a)\n"
   ]
  },
  {
   "cell_type": "code",
   "execution_count": 8,
   "id": "0a44ff41-27d2-4f47-b6ab-c4a7c2ad4d1c",
   "metadata": {},
   "outputs": [
    {
     "data": {
      "text/plain": [
       "int"
      ]
     },
     "execution_count": 8,
     "metadata": {},
     "output_type": "execute_result"
    }
   ],
   "source": [
    "type(a)"
   ]
  },
  {
   "cell_type": "code",
   "execution_count": 7,
   "id": "acb122ef-987f-4033-8b4f-a134d86b6235",
   "metadata": {},
   "outputs": [
    {
     "data": {
      "text/plain": [
       "bool"
      ]
     },
     "execution_count": 7,
     "metadata": {},
     "output_type": "execute_result"
    }
   ],
   "source": [
    "type(a==2)"
   ]
  },
  {
   "cell_type": "markdown",
   "id": "e9b79e43-73ad-4bd1-a60b-62ab8b4ecaa3",
   "metadata": {},
   "source": [
    "### Type\n",
    "- integer: 정수 ex) 1,2,3...\n",
    "- floating point number: 부동소수점 ex) 1.0, 2.0, 4.0......\n",
    "- string: 문자형 ex) \"1\",'apple'\n",
    "- boolean: 불리언(논리형) ex) True/False\n"
   ]
  },
  {
   "cell_type": "code",
   "execution_count": 2,
   "id": "fb1ae071-0347-45a5-9cdc-f49c45ac1c9b",
   "metadata": {},
   "outputs": [
    {
     "data": {
      "text/plain": [
       "str"
      ]
     },
     "execution_count": 2,
     "metadata": {},
     "output_type": "execute_result"
    }
   ],
   "source": [
    "type('1')"
   ]
  },
  {
   "cell_type": "code",
   "execution_count": 3,
   "id": "395336df-d156-43b5-98be-792a48203e19",
   "metadata": {},
   "outputs": [
    {
     "data": {
      "text/plain": [
       "str"
      ]
     },
     "execution_count": 3,
     "metadata": {},
     "output_type": "execute_result"
    }
   ],
   "source": [
    "type('apple')"
   ]
  },
  {
   "cell_type": "code",
   "execution_count": 15,
   "id": "b9b09b41-e70c-44f9-9274-cf71e9110de1",
   "metadata": {},
   "outputs": [
    {
     "data": {
      "text/plain": [
       "'kim'"
      ]
     },
     "execution_count": 15,
     "metadata": {},
     "output_type": "execute_result"
    }
   ],
   "source": [
    "name = 'kim'\n",
    "name"
   ]
  },
  {
   "cell_type": "code",
   "execution_count": 16,
   "id": "918d0e38-a217-4a44-a3f3-8d08a6205e03",
   "metadata": {},
   "outputs": [
    {
     "name": "stdout",
     "output_type": "stream",
     "text": [
      "kim\n"
     ]
    }
   ],
   "source": [
    "print(name)"
   ]
  },
  {
   "cell_type": "markdown",
   "id": "6ce0cdf1-409a-4866-9310-8319cf074602",
   "metadata": {
    "jupyter": {
     "outputs_hidden": true
    },
    "tags": []
   },
   "source": [
    "### 할당\n",
    "- = 이 기호를 사용한다.\n",
    "- 수학에서 '양변이 같다'라는 의미로 사용되지만, 프로그래밍에서는 '할당하다'라는 의미가 추가된다.\n",
    "- 오른쪽의 값을 왼쪽에 할당한다.\n",
    "    1. 오른쪽에 있는 모든 것은 값을 가져야한다.(초기화를 해야한다.)\n",
    "    2. 같은 변수에 다른 값을 넣을 수 있다.\n",
    "    "
   ]
  },
  {
   "cell_type": "code",
   "execution_count": 18,
   "id": "2a5302a3-314d-4e69-818a-b7dee7acbed6",
   "metadata": {},
   "outputs": [],
   "source": [
    "x=4 # 초기화\n",
    "y=x+3"
   ]
  },
  {
   "cell_type": "code",
   "execution_count": 19,
   "id": "be117987-5e45-4e8c-b088-5e3ea626320a",
   "metadata": {},
   "outputs": [
    {
     "data": {
      "text/plain": [
       "(4, 7)"
      ]
     },
     "execution_count": 19,
     "metadata": {},
     "output_type": "execute_result"
    }
   ],
   "source": [
    "x, y"
   ]
  },
  {
   "cell_type": "code",
   "execution_count": 20,
   "id": "23c1f7cc-492e-45ac-b291-83fad19869d9",
   "metadata": {},
   "outputs": [],
   "source": [
    "name = 'kim'\n",
    "name = 'lee'\n",
    "name = 'park'\n",
    "name = 4"
   ]
  },
  {
   "cell_type": "code",
   "execution_count": 21,
   "id": "95e93744-fd03-4b0e-b87c-4019f840784c",
   "metadata": {},
   "outputs": [
    {
     "name": "stdout",
     "output_type": "stream",
     "text": [
      "4\n"
     ]
    }
   ],
   "source": [
    "print(name) # 변수명 동일하게 사용하지 말 것"
   ]
  },
  {
   "cell_type": "code",
   "execution_count": 22,
   "id": "9304c22b-b06c-4229-a68b-13f6801ff8dd",
   "metadata": {},
   "outputs": [],
   "source": [
    "text = 'abc'\n",
    "text = 'cde' # 다른 변수명 사용하기"
   ]
  },
  {
   "cell_type": "markdown",
   "id": "908c1892-698f-414e-9e0a-bc4206a6bb4b",
   "metadata": {
    "jupyter": {
     "outputs_hidden": true
    },
    "tags": []
   },
   "source": [
    "### 변수명 정하기\n",
    "- 나쁜 변수명: a,b,c,a1,b1..\n",
    "- 의미있는 이름으로 선언해야 한다.\n",
    "- 소문자, 대문자, 숫자, 언더바를 사용한다. ex) name, name2, my_name, Name, NAME\n"
   ]
  },
  {
   "cell_type": "code",
   "execution_count": 24,
   "id": "b6201566-01e6-4096-9c04-e66a0d2b4618",
   "metadata": {},
   "outputs": [
    {
     "name": "stdout",
     "output_type": "stream",
     "text": [
      "Kwon,jessica,laura\n"
     ]
    }
   ],
   "source": [
    "name = 'Kwon'\n",
    "name1 = 'jessica'\n",
    "my_name = 'laura'\n",
    "\n",
    "print(name, name1, my_name, sep=',')"
   ]
  },
  {
   "cell_type": "markdown",
   "id": "c879416c-bae2-4c94-81a4-85e1d95ac410",
   "metadata": {
    "jupyter": {
     "outputs_hidden": true
    },
    "tags": []
   },
   "source": [
    "- 안되는 것:\n",
    "    -숫자로 시작할 수 없다.\n",
    "        ex) 22name, 22_name\n",
    "    -예약어로 선언할 수 없다.\n",
    "        ex) def, False, ...\n",
    "        "
   ]
  },
  {
   "cell_type": "code",
   "execution_count": 26,
   "id": "bda2f6d6-48ad-4292-8f58-000719c75401",
   "metadata": {},
   "outputs": [
    {
     "name": "stdout",
     "output_type": "stream",
     "text": [
      "\n",
      "Here is a list of the Python keywords.  Enter any keyword to get more help.\n",
      "\n",
      "False               break               for                 not\n",
      "None                class               from                or\n",
      "True                continue            global              pass\n",
      "__peg_parser__      def                 if                  raise\n",
      "and                 del                 import              return\n",
      "as                  elif                in                  try\n",
      "assert              else                is                  while\n",
      "async               except              lambda              with\n",
      "await               finally             nonlocal            yield\n",
      "\n"
     ]
    }
   ],
   "source": [
    "help('keywords')"
   ]
  },
  {
   "cell_type": "markdown",
   "id": "8b908cb0-727f-4c54-9fd7-3fa63c79309f",
   "metadata": {
    "jupyter": {
     "outputs_hidden": true
    },
    "tags": []
   },
   "source": [
    "- 조심할 것(특별한 용도가 있기 때문에):\n",
    "    - 언더바로 시작하는 변수명 ex) _name\n",
    "    - 더블 언더바로 시작하는 변수명: ex) __name__\n",
    "    - 대문자로 시작하는 변수명 ex) Name\n",
    "    - 전체 대문자 ex) NAME\n",
    "    "
   ]
  },
  {
   "cell_type": "code",
   "execution_count": 29,
   "id": "4ab10d5e-4efc-4a55-a618-a6d23caad855",
   "metadata": {},
   "outputs": [],
   "source": [
    "# 변수명은 대소문자 구분한다.\n",
    "num = 43\n",
    "Num = 44\n"
   ]
  },
  {
   "cell_type": "code",
   "execution_count": 30,
   "id": "c25fc724-b38d-4b78-9341-8f096dc40b4d",
   "metadata": {},
   "outputs": [
    {
     "data": {
      "text/plain": [
       "False"
      ]
     },
     "execution_count": 30,
     "metadata": {},
     "output_type": "execute_result"
    }
   ],
   "source": [
    "num == Num"
   ]
  },
  {
   "cell_type": "code",
   "execution_count": 31,
   "id": "3ea6891a-05d9-4139-b08b-4e2a22dac548",
   "metadata": {},
   "outputs": [
    {
     "data": {
      "text/plain": [
       "False"
      ]
     },
     "execution_count": 31,
     "metadata": {},
     "output_type": "execute_result"
    }
   ],
   "source": [
    "num = 'number'\n",
    "Num = 'Number'\n",
    "\n",
    "num == Num"
   ]
  },
  {
   "cell_type": "code",
   "execution_count": 32,
   "id": "52b42545-f075-44b7-8c1f-0ce25b1dedac",
   "metadata": {},
   "outputs": [
    {
     "data": {
      "text/plain": [
       "True"
      ]
     },
     "execution_count": 32,
     "metadata": {},
     "output_type": "execute_result"
    }
   ],
   "source": [
    "num != Num"
   ]
  },
  {
   "cell_type": "code",
   "execution_count": null,
   "id": "558bffca-f092-4a8d-92a2-30a95cb60f55",
   "metadata": {},
   "outputs": [],
   "source": []
  }
 ],
 "metadata": {
  "kernelspec": {
   "display_name": "Python 3 (ipykernel)",
   "language": "python",
   "name": "python3"
  },
  "language_info": {
   "codemirror_mode": {
    "name": "ipython",
    "version": 3
   },
   "file_extension": ".py",
   "mimetype": "text/x-python",
   "name": "python",
   "nbconvert_exporter": "python",
   "pygments_lexer": "ipython3",
   "version": "3.9.7"
  }
 },
 "nbformat": 4,
 "nbformat_minor": 5
}
